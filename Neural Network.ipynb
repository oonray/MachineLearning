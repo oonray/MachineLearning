{
 "cells": [
  {
   "cell_type": "code",
   "execution_count": 4,
   "metadata": {
    "collapsed": true
   },
   "outputs": [],
   "source": [
    "import tensorflow as tf\n"
   ]
  },
  {
   "cell_type": "code",
   "execution_count": 27,
   "metadata": {},
   "outputs": [
    {
     "name": "stdout",
     "output_type": "stream",
     "text": [
      "Successfully downloaded train-images-idx3-ubyte.gz 9912422 bytes.\n",
      "Extracting ./tmp/data/train-images-idx3-ubyte.gz\n",
      "Successfully downloaded train-labels-idx1-ubyte.gz 28881 bytes.\n",
      "Extracting ./tmp/data/train-labels-idx1-ubyte.gz\n",
      "Successfully downloaded t10k-images-idx3-ubyte.gz 1648877 bytes.\n",
      "Extracting ./tmp/data/t10k-images-idx3-ubyte.gz\n",
      "Successfully downloaded t10k-labels-idx1-ubyte.gz 4542 bytes.\n",
      "Extracting ./tmp/data/t10k-labels-idx1-ubyte.gz\n"
     ]
    }
   ],
   "source": [
    "from tensorflow.examples.tutorials.mnist import input_data\n",
    "mnist = input_data.read_data_sets(\"./tmp/data/\",one_hot=True)"
   ]
  },
  {
   "cell_type": "code",
   "execution_count": 21,
   "metadata": {},
   "outputs": [],
   "source": [
    "config = {\n",
    "    'len':784,\n",
    "    'layers':3,\n",
    "    'neurons':[500,500,500],\n",
    "    'classes':10,\n",
    "    'batch':100,\n",
    "    'function':tf.nn.relu\n",
    "}\n",
    "\n",
    "x = tf.placeholder('float',[None,config['len']])\n",
    "y = tf.placeholder('float')\n",
    "\n"
   ]
  },
  {
   "cell_type": "code",
   "execution_count": 28,
   "metadata": {},
   "outputs": [],
   "source": [
    "layers = []\n",
    "\n",
    "def layers(prev,i):\n",
    "    if(i == config['layers']):\n",
    "        layers.append({\n",
    "                'weights':tf.Variable(tf.random_normal([prev,config['classes']])),\n",
    "                'biases':tf.random_normal([config['classes']])\n",
    "                })\n",
    "    else: \n",
    "        layers.append({\n",
    "                'weights':tf.Variable(tf.random_normal([prev,config['neurons'][i]])),\n",
    "                'biases':tf.random_normal([config['neurons'][i]])\n",
    "            })\n",
    "        layers(config['neurons'][(i)],(i+1))\n",
    "    \n",
    "    \n",
    "def compute(data,i):\n",
    "        global layers\n",
    "        global config\n",
    "        \n",
    "        if(i==(len(layes)-1)):\n",
    "            return data\n",
    "        layer =  tf.add(tf.matmul(data,layers[i]['weights'])+layes[i]['biases'])\n",
    "        layer = config['function'](layer)\n",
    "        return compute(layer,(i+1))\n",
    "        \n",
    "def model(data):\n",
    "    global layers\n",
    "    global config\n",
    "\n",
    "    layers(config['len'],0)\n",
    "\n",
    "    compute(data,0)\n",
    " "
   ]
  },
  {
   "cell_type": "code",
   "execution_count": null,
   "metadata": {
    "collapsed": true
   },
   "outputs": [],
   "source": []
  },
  {
   "cell_type": "code",
   "execution_count": null,
   "metadata": {
    "collapsed": true
   },
   "outputs": [],
   "source": []
  }
 ],
 "metadata": {
  "kernelspec": {
   "display_name": "Python 3",
   "language": "python",
   "name": "python3"
  },
  "language_info": {
   "codemirror_mode": {
    "name": "ipython",
    "version": 3
   },
   "file_extension": ".py",
   "mimetype": "text/x-python",
   "name": "python",
   "nbconvert_exporter": "python",
   "pygments_lexer": "ipython3",
   "version": "3.6.2"
  }
 },
 "nbformat": 4,
 "nbformat_minor": 2
}
