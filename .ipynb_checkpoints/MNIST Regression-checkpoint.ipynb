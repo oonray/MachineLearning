{
 "cells": [
  {
   "cell_type": "code",
   "execution_count": 4,
   "metadata": {
    "collapsed": true
   },
   "outputs": [],
   "source": [
    "import tensorflow as tf\n",
    "import sklearn as sk"
   ]
  },
  {
   "cell_type": "code",
   "execution_count": 5,
   "metadata": {},
   "outputs": [
    {
     "name": "stdout",
     "output_type": "stream",
     "text": [
      "Extracting ./tmp/data/train-images-idx3-ubyte.gz\n",
      "Extracting ./tmp/data/train-labels-idx1-ubyte.gz\n",
      "Extracting ./tmp/data/t10k-images-idx3-ubyte.gz\n",
      "Extracting ./tmp/data/t10k-labels-idx1-ubyte.gz\n"
     ]
    }
   ],
   "source": [
    "from tensorflow.examples.tutorials.mnist import input_data\n",
    "mnist = input_data.read_data_sets(\"./tmp/data/\",one_hot=True)"
   ]
  },
  {
   "cell_type": "code",
   "execution_count": 6,
<<<<<<< HEAD:.ipynb_checkpoints/MNIST Regression-checkpoint.ipynb
   "metadata": {
    "collapsed": true
   },
=======
   "metadata": {},
>>>>>>> 595318b78c12bcf40f9e3508aeac1f24954a0387:MNIST.ipynb
   "outputs": [],
   "source": [
    "h = 28\n",
    "w = 28\n",
    "length = h*w\n",
    "\n",
    "num_img = 10\n",
    "\n",
    "x = tf.placeholder(tf.float32, [None, length])\n",
    "\n",
    "W = tf.Variable(tf.zeros([length, num_img]))\n",
    "b = tf.Variable(tf.zeros([num_img]))\n",
    "\n",
<<<<<<< HEAD:.ipynb_checkpoints/MNIST Regression-checkpoint.ipynb
    "y_ = tf.placeholder(tf.float32, [None, 10])\n",
    "\n",
    "y = tf.nn.softmax(tf.matmul(x, W) + b)\n",
    "\n",
    "sess = tf.InteractiveSession()\n"
=======
    "y_ = tf.placeholder(tf.float32, [None, num_img])\n",
    "\n"
>>>>>>> 595318b78c12bcf40f9e3508aeac1f24954a0387:MNIST.ipynb
   ]
  },
  {
   "cell_type": "code",
   "execution_count": 7,
   "metadata": {
    "collapsed": true
   },
   "outputs": [],
   "source": [
    "\n",
    "cross_entropy = tf.reduce_mean(tf.reduce_sum(y_ * tf.log(y), reduction_indices=[1]))\n",
    "\n",
    "train_step = tf.train.GradientDescentOptimizer(0.5).minimize(cross_entropy)\n"
   ]
  },
  {
   "cell_type": "code",
   "execution_count": 8,
   "metadata": {
    "collapsed": true
   },
   "outputs": [],
   "source": [
    "from sklearn.linear_model import SGDClassifier\n",
    "\n",
    "tf.global_variables_initializer().run()\n",
    "SGDC = SGDClassifier()\n",
    "\n",
    "\n",
    "for _ in range(1000):\n",
    "  x, y = mnist.train.next_batch(100)\n",
    "  \n",
    "  sess.run(train_step, feed_dict={x: x, y_: y})\n"
   ]
  },
  {
   "cell_type": "code",
   "execution_count": 9,
   "metadata": {},
   "outputs": [
    {
     "name": "stdout",
     "output_type": "stream",
     "text": [
      "0.098\n"
     ]
    }
   ],
   "source": [
    "\n",
    "correct_prediction = tf.equal(tf.argmax(y,1), tf.argmax(y_,1))\n",
    "\n",
    "accuracy = tf.reduce_mean(tf.cast(correct_prediction, tf.float32))\n",
    "\n",
    "print(sess.run(accuracy, feed_dict={x: mnist.test.images, y_: mnist.test.labels}))\n",
    "\n"
   ]
  },
  {
   "cell_type": "code",
   "execution_count": null,
   "metadata": {
    "collapsed": true
   },
   "outputs": [],
   "source": []
  }
 ],
 "metadata": {
  "kernelspec": {
   "display_name": "Python 3",
   "language": "python",
   "name": "python3"
  },
  "language_info": {
   "codemirror_mode": {
    "name": "ipython",
    "version": 3
   },
   "file_extension": ".py",
   "mimetype": "text/x-python",
   "name": "python",
   "nbconvert_exporter": "python",
   "pygments_lexer": "ipython3",
   "version": "3.6.2"
  }
 },
 "nbformat": 4,
 "nbformat_minor": 2
}
